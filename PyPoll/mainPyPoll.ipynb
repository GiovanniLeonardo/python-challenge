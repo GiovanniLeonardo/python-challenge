{
 "cells": [
  {
   "cell_type": "code",
   "execution_count": 1,
   "metadata": {},
   "outputs": [],
   "source": [
    "# Import Dependencies\n",
    "import pandas as pd\n",
    "import csv\n",
    "import numpy as np"
   ]
  },
  {
   "cell_type": "code",
   "execution_count": 2,
   "metadata": {},
   "outputs": [],
   "source": [
    "# Save path to data set in a variable\n",
    "election_data = \"election_data.csv\""
   ]
  },
  {
   "cell_type": "code",
   "execution_count": 3,
   "metadata": {
    "scrolled": false
   },
   "outputs": [
    {
     "data": {
      "text/html": [
       "<div>\n",
       "<style scoped>\n",
       "    .dataframe tbody tr th:only-of-type {\n",
       "        vertical-align: middle;\n",
       "    }\n",
       "\n",
       "    .dataframe tbody tr th {\n",
       "        vertical-align: top;\n",
       "    }\n",
       "\n",
       "    .dataframe thead th {\n",
       "        text-align: right;\n",
       "    }\n",
       "</style>\n",
       "<table border=\"1\" class=\"dataframe\">\n",
       "  <thead>\n",
       "    <tr style=\"text-align: right;\">\n",
       "      <th></th>\n",
       "      <th>Voter ID</th>\n",
       "      <th>County</th>\n",
       "      <th>Candidate</th>\n",
       "    </tr>\n",
       "  </thead>\n",
       "  <tbody>\n",
       "    <tr>\n",
       "      <th>0</th>\n",
       "      <td>12864552</td>\n",
       "      <td>Marsh</td>\n",
       "      <td>Khan</td>\n",
       "    </tr>\n",
       "    <tr>\n",
       "      <th>1</th>\n",
       "      <td>17444633</td>\n",
       "      <td>Marsh</td>\n",
       "      <td>Correy</td>\n",
       "    </tr>\n",
       "    <tr>\n",
       "      <th>2</th>\n",
       "      <td>19330107</td>\n",
       "      <td>Marsh</td>\n",
       "      <td>Khan</td>\n",
       "    </tr>\n",
       "    <tr>\n",
       "      <th>3</th>\n",
       "      <td>19865775</td>\n",
       "      <td>Queen</td>\n",
       "      <td>Khan</td>\n",
       "    </tr>\n",
       "    <tr>\n",
       "      <th>4</th>\n",
       "      <td>11927875</td>\n",
       "      <td>Marsh</td>\n",
       "      <td>Khan</td>\n",
       "    </tr>\n",
       "  </tbody>\n",
       "</table>\n",
       "</div>"
      ],
      "text/plain": [
       "   Voter ID County Candidate\n",
       "0  12864552  Marsh      Khan\n",
       "1  17444633  Marsh    Correy\n",
       "2  19330107  Marsh      Khan\n",
       "3  19865775  Queen      Khan\n",
       "4  11927875  Marsh      Khan"
      ]
     },
     "execution_count": 3,
     "metadata": {},
     "output_type": "execute_result"
    }
   ],
   "source": [
    "# Test- Use Pandas to read data\n",
    "election_df = pd.read_csv(election_data) \n",
    "election_df.head()"
   ]
  },
  {
   "cell_type": "code",
   "execution_count": 4,
   "metadata": {
    "scrolled": false
   },
   "outputs": [
    {
     "data": {
      "text/plain": [
       "array(['Khan', 'Correy', 'Li', \"O'Tooley\"], dtype=object)"
      ]
     },
     "execution_count": 4,
     "metadata": {},
     "output_type": "execute_result"
    }
   ],
   "source": [
    "# test - List of candidates who received votes\n",
    "election_df[\"Candidate\"].unique()"
   ]
  },
  {
   "cell_type": "code",
   "execution_count": 5,
   "metadata": {},
   "outputs": [],
   "source": [
    "# created variables to store data for votes and candidates.\n",
    "\n",
    "voter =[]\n",
    "candidates = []\n"
   ]
  },
  {
   "cell_type": "code",
   "execution_count": 6,
   "metadata": {},
   "outputs": [],
   "source": [
    "# Open csv and create a loop for each row in csv file\n",
    "\n",
    "with open(election_data, newline='') as csvfile:\n",
    "    csvreader = csv.reader(csvfile, delimiter = \",\")\n",
    "    csv_heade = next(csvreader, None)\n",
    "    \n",
    "    # tally up number of votes in each row, increment by 1 for each row\n",
    "    for row in csvreader:\n",
    "        candidates.append(row[2])\n",
    "    \n",
    "    # Create a dictonary from list\n",
    "    candidate = list(dict.fromkeys(candidates))\n",
    "    \n",
    "\n",
    "    # store new high vote count\n",
    "    firstCount = str()\n",
    "    # store previous high vote count\n",
    "    secondCount = 0\n",
    "    \n",
    "    # loop through list of condidate to get count to determine previous higher vote count and new\n",
    "    for i in candidate:\n",
    "        if candidates.count(i) > secondCount:\n",
    "            winner = i\n",
    "            secondCount = candidates.count(i)"
   ]
  },
  {
   "cell_type": "code",
   "execution_count": 7,
   "metadata": {},
   "outputs": [
    {
     "name": "stdout",
     "output_type": "stream",
     "text": [
      "Election  Results\n",
      "\n",
      "-------------------------\n",
      "\n",
      "Total Votes: 1048575\n",
      "-------------------------\n",
      "\n",
      "Khan: 63.09% (661583)\n",
      "Correy: 19.94% (209046)\n",
      "Li: 13.96% (146360)\n",
      "O'Tooley: 3.01% (31586)\n",
      "-------------------------\n",
      "\n",
      "Winner: Khan\n",
      "-------------------------\n",
      "\n"
     ]
    }
   ],
   "source": [
    "#Print the results to the terminal for Total votes, votes per candidate, percentage of votes, total votes, and winner\n",
    "print(f'Election  Results\\n')\n",
    "print('-------------------------\\n')\n",
    "print(f'Total Votes: {len(candidates)}')\n",
    "print('-------------------------\\n')\n",
    "print(f'{candidate[0]}: {round(candidates.count(candidate[0])/len(candidates)*100,2)}% ({candidates.count(candidate[0])})')\n",
    "print(f'{candidate[1]}: {round(candidates.count(candidate[1])/len(candidates)*100,2)}% ({candidates.count(candidate[1])})')\n",
    "print(f'{candidate[2]}: {round(candidates.count(candidate[2])/len(candidates)*100,2)}% ({candidates.count(candidate[2])})')\n",
    "print(f'{candidate[3]}: {round(candidates.count(candidate[3])/len(candidates)*100,2)}% ({candidates.count(candidate[3])})')\n",
    "print('-------------------------\\n')\n",
    "print(f'Winner: {winner}')\n",
    "print('-------------------------\\n')"
   ]
  },
  {
   "cell_type": "code",
   "execution_count": null,
   "metadata": {},
   "outputs": [],
   "source": []
  }
 ],
 "metadata": {
  "kernelspec": {
   "display_name": "Python 3",
   "language": "python",
   "name": "python3"
  },
  "language_info": {
   "codemirror_mode": {
    "name": "ipython",
    "version": 3
   },
   "file_extension": ".py",
   "mimetype": "text/x-python",
   "name": "python",
   "nbconvert_exporter": "python",
   "pygments_lexer": "ipython3",
   "version": "3.7.7"
  }
 },
 "nbformat": 4,
 "nbformat_minor": 2
}
