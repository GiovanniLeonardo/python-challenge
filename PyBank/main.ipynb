{
 "cells": [
  {
   "cell_type": "code",
   "execution_count": 260,
   "metadata": {},
   "outputs": [],
   "source": [
    "# Import Dependencies\n",
    "import pandas as pd\n",
    "import csv"
   ]
  },
  {
   "cell_type": "code",
   "execution_count": 261,
   "metadata": {},
   "outputs": [],
   "source": [
    "# Save path to data set in a variable\n",
    "budget_file = \"budget_data.csv\""
   ]
  },
  {
   "cell_type": "code",
   "execution_count": 262,
   "metadata": {
    "scrolled": false
   },
   "outputs": [],
   "source": [
    "# Use Pandas to read data\n",
    "#budget_file_df = pd.read_csv(budget_file) \n",
    "#budget_file_df.head(90).style.format({\"Profit/Losses\": \"${:0,.2f}\"}).hide_index().highlight_min(color='#cd4f39').highlight_max(color='lightgreen')"
   ]
  },
  {
   "cell_type": "code",
   "execution_count": 272,
   "metadata": {},
   "outputs": [],
   "source": [
    "#  ** create list to iterate through the rows for the variables\n",
    "total_months = []\n",
    "total_profit = []\n",
    "profit_change = []\n",
    "greatest_increase = row[0]\n",
    "lowest_decrease = row[0]"
   ]
  },
  {
   "cell_type": "code",
   "execution_count": 273,
   "metadata": {
    "scrolled": true
   },
   "outputs": [],
   "source": [
    "#print(budget_file_df[\"Profit/Losses\"].max())\n",
    "#print(budget_file_df[\"Profit/Losses\"].min())"
   ]
  },
  {
   "cell_type": "code",
   "execution_count": 274,
   "metadata": {
    "scrolled": true
   },
   "outputs": [],
   "source": [
    "# The total number of months included in the dataset\n",
    "total_months_1 = (len(budget_file_df))"
   ]
  },
  {
   "cell_type": "code",
   "execution_count": 276,
   "metadata": {},
   "outputs": [],
   "source": [
    "# Read the file for total months, profit, change in profit, and get max(increase/decrease) over the entire period\n",
    "\n",
    "#open budget_file\n",
    "with open(budget_file) as csvfile:\n",
    "    csvreader = csv.reader(csvfile)\n",
    "    csv_header = next(csvreader)\n",
    "\n",
    "# Total months and profits\n",
    "    for row in csvreader:\n",
    "         total_months.append(row[0])\n",
    "         total_profit.append(int(row[1]))\n",
    "\n",
    "# For loop through range of data to get changes in profit                    \n",
    "    for i in range(len(total_profit)-1):\n",
    "        profit_change.append(total_profit[i+1]-total_profit[i])\n",
    "\n",
    "# capture max increase/decrease \n",
    "max_increase_value = max(profit_change)\n",
    "max_decrease_value = min(profit_change)\n",
    "\n",
    "max_increase_month = profit_change.index(max(profit_change)) + 1\n",
    "max_decrease_month = profit_change.index(min(profit_change)) + 1\n",
    "                  \n",
    "total = total_profit\n",
    "average = profit_change\n",
    "decrease = lowest_decrease"
   ]
  },
  {
   "cell_type": "code",
   "execution_count": 277,
   "metadata": {},
   "outputs": [
    {
     "name": "stdout",
     "output_type": "stream",
     "text": [
      "Financial Analasis\n",
      "\n",
      "Total Months: 86\n",
      "Total Profit: $38382578\n",
      "Average Change: $-196783\n",
      "Greatest Increase in Profits: Feb-17, ($1926159)\n",
      "Greatest Decrease in Profits: Feb-17, ($-2196167)\n",
      "\n"
     ]
    }
   ],
   "source": [
    "# In addition, your final script should both print the analysis to the terminal and export a text file with the results\n",
    "\n",
    "total_summary = (\n",
    "f'Financial Analasis\\n' \n",
    "f'\\n'\n",
    "f'Total Months: {str(total_months_1)}\\n'\n",
    "f'Total Profit: ${sum(total_profit)}\\n'\n",
    "f'Average Change: ${round(sum(profit_change,2))}\\n'\n",
    "f'Greatest Increase in Profits: {greatest_increase}, (${max_increase_value})\\n'\n",
    "f'Greatest Decrease in Profits: {lowest_decrease}, (${max_decrease_value})\\n'   \n",
    ")\n",
    "\n",
    "#Print the results to terminal\n",
    "print(total_summary) \n",
    "\n",
    "# export results to a TXT file\n",
    "# budget_file_df.to_csv(\"Output/pybankoutput.txt\", index=False, header=True)\n",
    "file = open(\"Output/pybankoutput.txt\", \"w\")\n",
    "file.write(total_summary)\n",
    "file.close()"
   ]
  }
 ],
 "metadata": {
  "kernelspec": {
   "display_name": "Python 3",
   "language": "python",
   "name": "python3"
  },
  "language_info": {
   "codemirror_mode": {
    "name": "ipython",
    "version": 3
   },
   "file_extension": ".py",
   "mimetype": "text/x-python",
   "name": "python",
   "nbconvert_exporter": "python",
   "pygments_lexer": "ipython3",
   "version": "3.7.7"
  }
 },
 "nbformat": 4,
 "nbformat_minor": 2
}
